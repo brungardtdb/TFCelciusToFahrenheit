{
  "nbformat": 4,
  "nbformat_minor": 0,
  "metadata": {
    "colab": {
      "name": "Celcius_to_Fahrenheit.ipynb",
      "version": "0.3.2",
      "provenance": [],
      "collapsed_sections": [],
      "include_colab_link": true
    },
    "kernelspec": {
      "name": "python3",
      "display_name": "Python 3"
    }
  },
  "cells": [
    {
      "cell_type": "markdown",
      "metadata": {
        "id": "view-in-github",
        "colab_type": "text"
      },
      "source": [
        "<a href=\"https://colab.research.google.com/github/brungardtdb/TFCelciusToFahrenheit/blob/master/Celcius_to_Fahrenheit.ipynb\" target=\"_parent\"><img src=\"https://colab.research.google.com/assets/colab-badge.svg\" alt=\"Open In Colab\"/></a>"
      ]
    },
    {
      "metadata": {
        "id": "KcHW5v_UQRTi",
        "colab_type": "code",
        "colab": {}
      },
      "cell_type": "code",
      "source": [
        "import tensorflow as tf\n",
        "tf.logging.set_verbosity(tf.logging.ERROR)\n",
        "\n",
        "import numpy as np"
      ],
      "execution_count": 0,
      "outputs": []
    },
    {
      "metadata": {
        "id": "6xlPyRXUQZHq",
        "colab_type": "code",
        "outputId": "2ad70931-71b4-455e-e62d-1261f258d041",
        "colab": {
          "base_uri": "https://localhost:8080/",
          "height": 136
        }
      },
      "cell_type": "code",
      "source": [
        "celcius_q = np.array([-40,-10,0,8,15,22,38], dtype = float)\n",
        "fahrenheit_a = np.array([-40,14,32,46,59,72,100], dtype = float)\n",
        "\n",
        "for i,c in enumerate(celcius_q):\n",
        "  print(\"{} degrees Celcius = {} degrees Fahrenheit\".format(c, fahrenheit_a[i]))"
      ],
      "execution_count": 0,
      "outputs": [
        {
          "output_type": "stream",
          "text": [
            "-40.0 degrees Celcius = -40.0 degrees Fahrenheit\n",
            "-10.0 degrees Celcius = 14.0 degrees Fahrenheit\n",
            "0.0 degrees Celcius = 32.0 degrees Fahrenheit\n",
            "8.0 degrees Celcius = 46.0 degrees Fahrenheit\n",
            "15.0 degrees Celcius = 59.0 degrees Fahrenheit\n",
            "22.0 degrees Celcius = 72.0 degrees Fahrenheit\n",
            "38.0 degrees Celcius = 100.0 degrees Fahrenheit\n"
          ],
          "name": "stdout"
        }
      ]
    },
    {
      "metadata": {
        "id": "kxruq9MxRagC",
        "colab_type": "code",
        "colab": {}
      },
      "cell_type": "code",
      "source": [
        "#ten = tf.keras.layers.Dense(units=1, input_shape=[1])\n",
        "#I don't believe this line is doing anything..."
      ],
      "execution_count": 0,
      "outputs": []
    },
    {
      "metadata": {
        "id": "r0OPssiGSTTr",
        "colab_type": "code",
        "colab": {}
      },
      "cell_type": "code",
      "source": [
        "model = tf.keras.Sequential([ten])"
      ],
      "execution_count": 0,
      "outputs": []
    },
    {
      "metadata": {
        "id": "7P5JoRKmVUrY",
        "colab_type": "code",
        "colab": {}
      },
      "cell_type": "code",
      "source": [
        "model = tf.keras.Sequential([tf.keras.layers.Dense(units=1, input_shape=[1])])"
      ],
      "execution_count": 0,
      "outputs": []
    },
    {
      "metadata": {
        "id": "n1hwnNagcnV_",
        "colab_type": "code",
        "colab": {}
      },
      "cell_type": "code",
      "source": [
        "model.compile(loss='mean_squared_error', optimizer=tf.keras.optimizers.Adam(0.1))"
      ],
      "execution_count": 0,
      "outputs": []
    },
    {
      "metadata": {
        "id": "0KI52FQkc_4G",
        "colab_type": "code",
        "outputId": "66c48cc5-7582-44ec-db0a-16abee1f4bd2",
        "colab": {
          "base_uri": "https://localhost:8080/",
          "height": 34
        }
      },
      "cell_type": "code",
      "source": [
        "history = model.fit(celcius_q, fahrenheit_a, epochs=500,verbose=False)\n",
        "print(\"Finished training the model\")"
      ],
      "execution_count": 0,
      "outputs": [
        {
          "output_type": "stream",
          "text": [
            "Finished training the model\n"
          ],
          "name": "stdout"
        }
      ]
    },
    {
      "metadata": {
        "id": "EHsU5jS0eK-n",
        "colab_type": "code",
        "outputId": "9ced9e10-1e69-401f-cf2b-37336db83a2c",
        "colab": {
          "base_uri": "https://localhost:8080/",
          "height": 378
        }
      },
      "cell_type": "code",
      "source": [
        "import matplotlib.pyplot as plt\n",
        "plt.xlabel('Epoch Number')\n",
        "plt.ylabel(\"Loss Magnitude\")\n",
        "plt.plot(history.history['loss'])"
      ],
      "execution_count": 0,
      "outputs": [
        {
          "output_type": "execute_result",
          "data": {
            "text/plain": [
              "[<matplotlib.lines.Line2D at 0x7f8550ae7be0>]"
            ]
          },
          "metadata": {
            "tags": []
          },
          "execution_count": 49
        },
        {
          "output_type": "display_data",
          "data": {
            "image/png": "[encoded data removed]",
            "text/plain": [
              "<Figure size 576x396 with 1 Axes>"
            ]
          },
          "metadata": {
            "tags": []
          }
        }
      ]
    },
    {
      "metadata": {
        "id": "PZUCwH3Me7xV",
        "colab_type": "code",
        "outputId": "7793e152-5cb5-41b7-df90-e085c4f9c2ca",
        "colab": {
          "base_uri": "https://localhost:8080/",
          "height": 34
        }
      },
      "cell_type": "code",
      "source": [
        "print(model.predict([100.0]))"
      ],
      "execution_count": 0,
      "outputs": [
        {
          "output_type": "stream",
          "text": [
            "[[211.28899]]\n"
          ],
          "name": "stdout"
        }
      ]
    },
    {
      "metadata": {
        "id": "w8I9uknsfWlO",
        "colab_type": "code",
        "outputId": "2ee14d94-762d-4e93-905b-eb22ff7ee774",
        "colab": {
          "base_uri": "https://localhost:8080/",
          "height": 34
        }
      },
      "cell_type": "code",
      "source": [
        "print(\"These are the layer variales: {}\".format(model.get_weights()))"
      ],
      "execution_count": 0,
      "outputs": [
        {
          "output_type": "stream",
          "text": [
            "These are the layer variales: [array([[1.8271885]], dtype=float32), array([28.570148], dtype=float32)]\n"
          ],
          "name": "stdout"
        }
      ]
    },
    {
      "metadata": {
        "id": "MxAIUOmEgA_N",
        "colab_type": "code",
        "outputId": "3e045c57-adc6-40a2-9f67-f6ebfe7e73c9",
        "colab": {
          "base_uri": "https://localhost:8080/",
          "height": 275
        }
      },
      "cell_type": "code",
      "source": [
        "#create layers\n",
        "ten = tf.keras.layers.Dense(units=4, input_shape=[1])\n",
        "eleven = tf.keras.layers.Dense(units=4)\n",
        "twelve = tf.keras.layers.Dense(units=1)\n",
        "\n",
        "#create model\n",
        "model = tf.keras.Sequential([ten,eleven,twelve])\n",
        "\n",
        "#compile model\n",
        "model.compile(loss='mean_squared_error', optimizer = tf.keras.optimizers.Adam(0.1))\n",
        "\n",
        "#fit model\n",
        "model.fit(celcius_q, fahrenheit_a, epochs = 500, verbose = False)\n",
        "\n",
        "print(\"Finished training the model\")\n",
        "\n",
        "#predict fahrenheit tempurature at 100 degrees celcius\n",
        "print(model.predict([100.0]))\n",
        "\n",
        "print(\"Model predicts that 100 degrees Celcius is: {} degrees Fahrenheit\".format(model.predict([100.0])))\n",
        "\n",
        "print(\"These are the \\'ten\\'' variables (weights): {}\".format(ten.get_weights()))\n",
        "print(\"These are the \\'eleven\\'' variables (weights): {}\".format(eleven.get_weights()))\n",
        "print(\"These are the \\'twelve\\' variables (weights): {}\".format(twelve.get_weights()))\n",
        "\n"
      ],
      "execution_count": 0,
      "outputs": [
        {
          "output_type": "stream",
          "text": [
            "Finished training the model\n",
            "[[211.74744]]\n",
            "Model predicts that 100 degrees Celcius is: [[211.74744]] degrees Fahrenheit\n",
            "These are the 'ten'' variables (weights): [array([[-0.01244348,  0.1370711 , -0.09998636,  0.7710109 ]],\n",
            "      dtype=float32), array([-1.4838947,  3.2223737, -3.0728986,  3.5671616], dtype=float32)]\n",
            "These are the 'eleven'' variables (weights): [array([[ 0.09557288,  0.6402097 , -0.5022226 ,  0.53613406],\n",
            "       [-1.0057847 ,  1.1598651 , -0.32054743, -0.41722694],\n",
            "       [ 0.21778014,  0.27560845, -0.72951204,  0.7083488 ],\n",
            "       [-1.0986243 , -0.19534932,  0.32369995, -0.2214606 ]],\n",
            "      dtype=float32), array([-3.3667116,  2.9185748,  3.193497 , -3.378332 ], dtype=float32)]\n",
            "These are the 'twelve' variables (weights): [array([[-1.3497908 ],\n",
            "       [ 0.6026767 ],\n",
            "       [ 1.1060355 ],\n",
            "       [-0.45462295]], dtype=float32), array([3.3124464], dtype=float32)]\n"
          ],
          "name": "stdout"
        }
      ]
    },
    {
      "metadata": {
        "id": "jZ4niCz9iMLt",
        "colab_type": "code",
        "colab": {}
      },
      "cell_type": "code",
      "source": [
        ""
      ],
      "execution_count": 0,
      "outputs": []
    }
  ]
}